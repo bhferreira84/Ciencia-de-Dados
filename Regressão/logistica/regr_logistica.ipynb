{
 "cells": [
  {
   "cell_type": "code",
   "execution_count": 1,
   "id": "6ca256fd",
   "metadata": {},
   "outputs": [],
   "source": [
    "\n",
    "#!pip install seaborn\n",
    "import pandas as pd\n",
    "import numpy as np\n",
    "import matplotlib.pyplot as plt\n",
    "import seaborn as sns\n",
    "from sklearn.preprocessing import MinMaxScaler\n",
    "from sklearn.decomposition import PCA\n",
    "from sklearn.linear_model import LogisticRegression\n",
    "from sklearn.model_selection import train_test_split"
   ]
  },
  {
   "cell_type": "code",
   "execution_count": 2,
   "id": "6d426b02",
   "metadata": {},
   "outputs": [],
   "source": [
    "df=pd.read_csv('framingham_heart_disease.csv')\n",
    "\n",
    "'''Excluindo linhas com dados ausentes'''\n",
    "\n",
    "df = df.dropna()\n",
    "\"\"\"Excluindo a coluna education \"\"\"\n",
    "dataset = df.drop('education',axis=1)\n",
    "\n",
    "normalizador = MinMaxScaler(feature_range=(0,1)) \n",
    "\n",
    "colunas = ['age','cigsPerDay','totChol','sysBP','diaBP','BMI','heartRate','glucose']\n",
    "dataset[colunas] = normalizador.fit_transform(dataset[colunas])"
   ]
  },
  {
   "cell_type": "markdown",
   "id": "0fff645d",
   "metadata": {},
   "source": [
    "Informações:\n",
    "\n",
    "male: 1 -> homem, 0 -> mulher (variável categórica)\n",
    "\n",
    "age: idade (variável contínua)\n",
    "\n",
    "educação: nível educacional (variável categórica)\n",
    "\n",
    "currentSmoker: 1 -> fumante, 0 -> não fumante (variável categórica)\n",
    "\n",
    "cigsPerDay: quantidade de cigarros por dia (variável contínua)\n",
    "\n",
    "BPMeds: 1 -> paciente toma medicamente para pressão, 0- > não toma medicamento (variável categórica)\n",
    "\n",
    "prevalentStroke: 1 -> paciente teve derrame, 0 -> não teve (variável categórica)\n",
    "\n",
    "prevalentHyp: 1 -> hipertensor, 0 -> não hipertenso (variável categórica)\n",
    "\n",
    "diabetes: 1 -> tem diabetes, 0 -> não tem (variável categórica)\n",
    "\n",
    "totChol: colesterol total (variável contínua)\n",
    "\n",
    "sysBP: pressão sanguínea sistólica (variável contínua)\n",
    "\n",
    "diaBP: pressão sanguínea diastólica (variável contínua)\n",
    "\n",
    "BMI: indice de massa corporal (variável contínua)\n",
    "\n",
    "heartRate: batimento cardíaco (variável contínua)\n",
    "\n",
    "glucose: glicose (variável contínua)\n",
    "\n",
    "TenYearCHD: 1 -> terá problema, 0 -> não terá (variável categórica)\n",
    "\n"
   ]
  },
  {
   "cell_type": "code",
   "execution_count": 3,
   "id": "f5970129",
   "metadata": {},
   "outputs": [
    {
     "data": {
      "text/html": [
       "<div>\n",
       "<style scoped>\n",
       "    .dataframe tbody tr th:only-of-type {\n",
       "        vertical-align: middle;\n",
       "    }\n",
       "\n",
       "    .dataframe tbody tr th {\n",
       "        vertical-align: top;\n",
       "    }\n",
       "\n",
       "    .dataframe thead th {\n",
       "        text-align: right;\n",
       "    }\n",
       "</style>\n",
       "<table border=\"1\" class=\"dataframe\">\n",
       "  <thead>\n",
       "    <tr style=\"text-align: right;\">\n",
       "      <th></th>\n",
       "      <th>male</th>\n",
       "      <th>age</th>\n",
       "      <th>currentSmoker</th>\n",
       "      <th>cigsPerDay</th>\n",
       "      <th>BPMeds</th>\n",
       "      <th>prevalentStroke</th>\n",
       "      <th>prevalentHyp</th>\n",
       "      <th>diabetes</th>\n",
       "      <th>totChol</th>\n",
       "      <th>sysBP</th>\n",
       "      <th>diaBP</th>\n",
       "      <th>BMI</th>\n",
       "      <th>heartRate</th>\n",
       "      <th>glucose</th>\n",
       "      <th>TenYearCHD</th>\n",
       "    </tr>\n",
       "  </thead>\n",
       "  <tbody>\n",
       "    <tr>\n",
       "      <th>994</th>\n",
       "      <td>0</td>\n",
       "      <td>0.368421</td>\n",
       "      <td>0</td>\n",
       "      <td>0.000000</td>\n",
       "      <td>0.0</td>\n",
       "      <td>0</td>\n",
       "      <td>0</td>\n",
       "      <td>0</td>\n",
       "      <td>0.322382</td>\n",
       "      <td>0.182033</td>\n",
       "      <td>0.296296</td>\n",
       "      <td>0.140814</td>\n",
       "      <td>0.333333</td>\n",
       "      <td>0.135593</td>\n",
       "      <td>0</td>\n",
       "    </tr>\n",
       "    <tr>\n",
       "      <th>4038</th>\n",
       "      <td>0</td>\n",
       "      <td>0.184211</td>\n",
       "      <td>0</td>\n",
       "      <td>0.000000</td>\n",
       "      <td>0.0</td>\n",
       "      <td>0</td>\n",
       "      <td>0</td>\n",
       "      <td>0</td>\n",
       "      <td>0.139630</td>\n",
       "      <td>0.092199</td>\n",
       "      <td>0.148148</td>\n",
       "      <td>0.124576</td>\n",
       "      <td>0.262626</td>\n",
       "      <td>0.081921</td>\n",
       "      <td>0</td>\n",
       "    </tr>\n",
       "    <tr>\n",
       "      <th>2477</th>\n",
       "      <td>1</td>\n",
       "      <td>0.184211</td>\n",
       "      <td>1</td>\n",
       "      <td>0.285714</td>\n",
       "      <td>0.0</td>\n",
       "      <td>0</td>\n",
       "      <td>0</td>\n",
       "      <td>0</td>\n",
       "      <td>0.244353</td>\n",
       "      <td>0.184397</td>\n",
       "      <td>0.322751</td>\n",
       "      <td>0.256180</td>\n",
       "      <td>0.363636</td>\n",
       "      <td>0.093220</td>\n",
       "      <td>0</td>\n",
       "    </tr>\n",
       "    <tr>\n",
       "      <th>2222</th>\n",
       "      <td>0</td>\n",
       "      <td>0.868421</td>\n",
       "      <td>1</td>\n",
       "      <td>0.014286</td>\n",
       "      <td>0.0</td>\n",
       "      <td>0</td>\n",
       "      <td>1</td>\n",
       "      <td>0</td>\n",
       "      <td>0.429158</td>\n",
       "      <td>0.385343</td>\n",
       "      <td>0.497354</td>\n",
       "      <td>0.176927</td>\n",
       "      <td>0.363636</td>\n",
       "      <td>0.115819</td>\n",
       "      <td>0</td>\n",
       "    </tr>\n",
       "    <tr>\n",
       "      <th>1623</th>\n",
       "      <td>1</td>\n",
       "      <td>0.368421</td>\n",
       "      <td>1</td>\n",
       "      <td>0.071429</td>\n",
       "      <td>0.0</td>\n",
       "      <td>0</td>\n",
       "      <td>0</td>\n",
       "      <td>0</td>\n",
       "      <td>0.221766</td>\n",
       "      <td>0.196217</td>\n",
       "      <td>0.423280</td>\n",
       "      <td>0.224673</td>\n",
       "      <td>0.282828</td>\n",
       "      <td>0.132768</td>\n",
       "      <td>0</td>\n",
       "    </tr>\n",
       "    <tr>\n",
       "      <th>...</th>\n",
       "      <td>...</td>\n",
       "      <td>...</td>\n",
       "      <td>...</td>\n",
       "      <td>...</td>\n",
       "      <td>...</td>\n",
       "      <td>...</td>\n",
       "      <td>...</td>\n",
       "      <td>...</td>\n",
       "      <td>...</td>\n",
       "      <td>...</td>\n",
       "      <td>...</td>\n",
       "      <td>...</td>\n",
       "      <td>...</td>\n",
       "      <td>...</td>\n",
       "      <td>...</td>\n",
       "    </tr>\n",
       "    <tr>\n",
       "      <th>4221</th>\n",
       "      <td>1</td>\n",
       "      <td>0.473684</td>\n",
       "      <td>0</td>\n",
       "      <td>0.000000</td>\n",
       "      <td>0.0</td>\n",
       "      <td>0</td>\n",
       "      <td>0</td>\n",
       "      <td>0</td>\n",
       "      <td>0.301848</td>\n",
       "      <td>0.167849</td>\n",
       "      <td>0.275132</td>\n",
       "      <td>0.152933</td>\n",
       "      <td>0.363636</td>\n",
       "      <td>0.090395</td>\n",
       "      <td>1</td>\n",
       "    </tr>\n",
       "    <tr>\n",
       "      <th>4223</th>\n",
       "      <td>1</td>\n",
       "      <td>0.631579</td>\n",
       "      <td>0</td>\n",
       "      <td>0.000000</td>\n",
       "      <td>1.0</td>\n",
       "      <td>0</td>\n",
       "      <td>1</td>\n",
       "      <td>0</td>\n",
       "      <td>0.357290</td>\n",
       "      <td>0.309693</td>\n",
       "      <td>0.529101</td>\n",
       "      <td>0.148812</td>\n",
       "      <td>0.464646</td>\n",
       "      <td>0.098870</td>\n",
       "      <td>1</td>\n",
       "    </tr>\n",
       "    <tr>\n",
       "      <th>4226</th>\n",
       "      <td>1</td>\n",
       "      <td>0.684211</td>\n",
       "      <td>0</td>\n",
       "      <td>0.000000</td>\n",
       "      <td>0.0</td>\n",
       "      <td>0</td>\n",
       "      <td>0</td>\n",
       "      <td>0</td>\n",
       "      <td>0.246407</td>\n",
       "      <td>0.198582</td>\n",
       "      <td>0.380952</td>\n",
       "      <td>0.254726</td>\n",
       "      <td>0.232323</td>\n",
       "      <td>0.101695</td>\n",
       "      <td>1</td>\n",
       "    </tr>\n",
       "    <tr>\n",
       "      <th>4232</th>\n",
       "      <td>1</td>\n",
       "      <td>0.947368</td>\n",
       "      <td>0</td>\n",
       "      <td>0.000000</td>\n",
       "      <td>0.0</td>\n",
       "      <td>0</td>\n",
       "      <td>1</td>\n",
       "      <td>0</td>\n",
       "      <td>0.129363</td>\n",
       "      <td>0.399527</td>\n",
       "      <td>0.518519</td>\n",
       "      <td>0.184198</td>\n",
       "      <td>0.161616</td>\n",
       "      <td>0.110169</td>\n",
       "      <td>1</td>\n",
       "    </tr>\n",
       "    <tr>\n",
       "      <th>4233</th>\n",
       "      <td>1</td>\n",
       "      <td>0.473684</td>\n",
       "      <td>1</td>\n",
       "      <td>0.014286</td>\n",
       "      <td>0.0</td>\n",
       "      <td>0</td>\n",
       "      <td>1</td>\n",
       "      <td>0</td>\n",
       "      <td>0.410678</td>\n",
       "      <td>0.451537</td>\n",
       "      <td>0.465608</td>\n",
       "      <td>0.252787</td>\n",
       "      <td>0.222222</td>\n",
       "      <td>0.129944</td>\n",
       "      <td>1</td>\n",
       "    </tr>\n",
       "  </tbody>\n",
       "</table>\n",
       "<p>1114 rows × 15 columns</p>\n",
       "</div>"
      ],
      "text/plain": [
       "      male       age  currentSmoker  cigsPerDay  BPMeds  prevalentStroke  \\\n",
       "994      0  0.368421              0    0.000000     0.0                0   \n",
       "4038     0  0.184211              0    0.000000     0.0                0   \n",
       "2477     1  0.184211              1    0.285714     0.0                0   \n",
       "2222     0  0.868421              1    0.014286     0.0                0   \n",
       "1623     1  0.368421              1    0.071429     0.0                0   \n",
       "...    ...       ...            ...         ...     ...              ...   \n",
       "4221     1  0.473684              0    0.000000     0.0                0   \n",
       "4223     1  0.631579              0    0.000000     1.0                0   \n",
       "4226     1  0.684211              0    0.000000     0.0                0   \n",
       "4232     1  0.947368              0    0.000000     0.0                0   \n",
       "4233     1  0.473684              1    0.014286     0.0                0   \n",
       "\n",
       "      prevalentHyp  diabetes   totChol     sysBP     diaBP       BMI  \\\n",
       "994              0         0  0.322382  0.182033  0.296296  0.140814   \n",
       "4038             0         0  0.139630  0.092199  0.148148  0.124576   \n",
       "2477             0         0  0.244353  0.184397  0.322751  0.256180   \n",
       "2222             1         0  0.429158  0.385343  0.497354  0.176927   \n",
       "1623             0         0  0.221766  0.196217  0.423280  0.224673   \n",
       "...            ...       ...       ...       ...       ...       ...   \n",
       "4221             0         0  0.301848  0.167849  0.275132  0.152933   \n",
       "4223             1         0  0.357290  0.309693  0.529101  0.148812   \n",
       "4226             0         0  0.246407  0.198582  0.380952  0.254726   \n",
       "4232             1         0  0.129363  0.399527  0.518519  0.184198   \n",
       "4233             1         0  0.410678  0.451537  0.465608  0.252787   \n",
       "\n",
       "      heartRate   glucose  TenYearCHD  \n",
       "994    0.333333  0.135593           0  \n",
       "4038   0.262626  0.081921           0  \n",
       "2477   0.363636  0.093220           0  \n",
       "2222   0.363636  0.115819           0  \n",
       "1623   0.282828  0.132768           0  \n",
       "...         ...       ...         ...  \n",
       "4221   0.363636  0.090395           1  \n",
       "4223   0.464646  0.098870           1  \n",
       "4226   0.232323  0.101695           1  \n",
       "4232   0.161616  0.110169           1  \n",
       "4233   0.222222  0.129944           1  \n",
       "\n",
       "[1114 rows x 15 columns]"
      ]
     },
     "execution_count": 3,
     "metadata": {},
     "output_type": "execute_result"
    }
   ],
   "source": [
    "'''separando uma amostra com 50% de observações contendo pessoas que tiveram ataque cardiaco e 50% de pessoas que não tiveram'''\n",
    "\n",
    "contagem = dataset['TenYearCHD'].value_counts()\n",
    "\n",
    "dataset_1 = dataset[dataset['TenYearCHD']==1]\n",
    "dataset_0 = dataset[dataset['TenYearCHD']==0]\n",
    "\n",
    "dataset_0_novo = dataset_0.sample(n=contagem[1],random_state=42)\n",
    "\n",
    "dados = pd.concat([dataset_0_novo,dataset_1])\n",
    "\n",
    "contagem = dados['TenYearCHD'].value_counts()\n",
    "\n",
    "dados = pd.concat([dataset_0_novo,dataset_1])\n",
    "dados"
   ]
  },
  {
   "cell_type": "code",
   "execution_count": 4,
   "id": "35e4f72a",
   "metadata": {},
   "outputs": [],
   "source": [
    "target=dados['TenYearCHD'].values\n",
    "pca= PCA(n_components=6)\n",
    "dados_pca=pca.fit_transform(dados)"
   ]
  },
  {
   "cell_type": "code",
   "execution_count": 5,
   "id": "6214cb54",
   "metadata": {},
   "outputs": [],
   "source": [
    "# Obter os nomes das variáveis originais (se estiverem disponíveis)\n",
    "variaveis = dados.columns\n",
    "\n",
    "# Obter os pesos (coeficientes) dos componentes principais\n",
    "pesos = pca.components_\n",
    "\n",
    "# # Criar um DataFrame para facilitar a análise\n",
    "df_pesos = pd.DataFrame(pesos.T, columns=[f'CP{i+1}' for i in range(pca.n_components_)], index=variaveis)\n",
    "df_pesos.sort_values(by='CP1', inplace=True)"
   ]
  },
  {
   "cell_type": "code",
   "execution_count": 6,
   "id": "7336391c",
   "metadata": {},
   "outputs": [
    {
     "name": "stderr",
     "output_type": "stream",
     "text": [
      "No artists with labels found to put in legend.  Note that artists whose label start with an underscore are ignored when legend() is called with no argument.\n"
     ]
    },
    {
     "data": {
      "image/png": "[encoded data removed]",
      "text/plain": [
       "<Figure size 1200x500 with 1 Axes>"
      ]
     },
     "metadata": {},
     "output_type": "display_data"
    }
   ],
   "source": [
    "plt.figure(figsize=(12, 5))\n",
    "plt.bar(df_pesos.index, df_pesos.CP1)\n",
    "\n",
    "plt.xlabel('Variáveis')\n",
    "plt.ylabel('Variância')\n",
    "plt.legend()\n",
    "plt.xticks(rotation=45, ha='right')  # Rotaciona os rótulos do eixo x para melhor legibilidade\n",
    "\n",
    "plt.grid(True)\n",
    "plt.show()"
   ]
  },
  {
   "cell_type": "code",
   "execution_count": 7,
   "id": "41130ca7",
   "metadata": {},
   "outputs": [],
   "source": [
    "# X_treino, X_teste, y_treino, y_teste = train_test_split(dados_pca, target, test_size=0.2, random_state=42)"
   ]
  },
  {
   "cell_type": "code",
   "execution_count": 8,
   "id": "52a02ec0",
   "metadata": {},
   "outputs": [],
   "source": [
    "df_regressao = pd.DataFrame({'CP': dados_pca[:, 0], 'target': target})"
   ]
  },
  {
   "cell_type": "code",
   "execution_count": 9,
   "id": "5ffd2aae",
   "metadata": {},
   "outputs": [],
   "source": [
    "df_regressao.sort_values(by='CP', inplace=True)\n",
    "\n",
    "df_regressao=df_regressao[(df_regressao['CP']>=-1) & (df_regressao['CP']<=1) ].copy()\n",
    "df_regressao.sort_values(by='CP', inplace=True)"
   ]
  },
  {
   "cell_type": "code",
   "execution_count": 10,
   "id": "ab436a60",
   "metadata": {},
   "outputs": [
    {
     "data": {
      "text/html": [
       "<style>#sk-container-id-1 {color: black;}#sk-container-id-1 pre{padding: 0;}#sk-container-id-1 div.sk-toggleable {background-color: white;}#sk-container-id-1 label.sk-toggleable__label {cursor: pointer;display: block;width: 100%;margin-bottom: 0;padding: 0.3em;box-sizing: border-box;text-align: center;}#sk-container-id-1 label.sk-toggleable__label-arrow:before {content: \"▸\";float: left;margin-right: 0.25em;color: #696969;}#sk-container-id-1 label.sk-toggleable__label-arrow:hover:before {color: black;}#sk-container-id-1 div.sk-estimator:hover label.sk-toggleable__label-arrow:before {color: black;}#sk-container-id-1 div.sk-toggleable__content {max-height: 0;max-width: 0;overflow: hidden;text-align: left;background-color: #f0f8ff;}#sk-container-id-1 div.sk-toggleable__content pre {margin: 0.2em;color: black;border-radius: 0.25em;background-color: #f0f8ff;}#sk-container-id-1 input.sk-toggleable__control:checked~div.sk-toggleable__content {max-height: 200px;max-width: 100%;overflow: auto;}#sk-container-id-1 input.sk-toggleable__control:checked~label.sk-toggleable__label-arrow:before {content: \"▾\";}#sk-container-id-1 div.sk-estimator input.sk-toggleable__control:checked~label.sk-toggleable__label {background-color: #d4ebff;}#sk-container-id-1 div.sk-label input.sk-toggleable__control:checked~label.sk-toggleable__label {background-color: #d4ebff;}#sk-container-id-1 input.sk-hidden--visually {border: 0;clip: rect(1px 1px 1px 1px);clip: rect(1px, 1px, 1px, 1px);height: 1px;margin: -1px;overflow: hidden;padding: 0;position: absolute;width: 1px;}#sk-container-id-1 div.sk-estimator {font-family: monospace;background-color: #f0f8ff;border: 1px dotted black;border-radius: 0.25em;box-sizing: border-box;margin-bottom: 0.5em;}#sk-container-id-1 div.sk-estimator:hover {background-color: #d4ebff;}#sk-container-id-1 div.sk-parallel-item::after {content: \"\";width: 100%;border-bottom: 1px solid gray;flex-grow: 1;}#sk-container-id-1 div.sk-label:hover label.sk-toggleable__label {background-color: #d4ebff;}#sk-container-id-1 div.sk-serial::before {content: \"\";position: absolute;border-left: 1px solid gray;box-sizing: border-box;top: 0;bottom: 0;left: 50%;z-index: 0;}#sk-container-id-1 div.sk-serial {display: flex;flex-direction: column;align-items: center;background-color: white;padding-right: 0.2em;padding-left: 0.2em;position: relative;}#sk-container-id-1 div.sk-item {position: relative;z-index: 1;}#sk-container-id-1 div.sk-parallel {display: flex;align-items: stretch;justify-content: center;background-color: white;position: relative;}#sk-container-id-1 div.sk-item::before, #sk-container-id-1 div.sk-parallel-item::before {content: \"\";position: absolute;border-left: 1px solid gray;box-sizing: border-box;top: 0;bottom: 0;left: 50%;z-index: -1;}#sk-container-id-1 div.sk-parallel-item {display: flex;flex-direction: column;z-index: 1;position: relative;background-color: white;}#sk-container-id-1 div.sk-parallel-item:first-child::after {align-self: flex-end;width: 50%;}#sk-container-id-1 div.sk-parallel-item:last-child::after {align-self: flex-start;width: 50%;}#sk-container-id-1 div.sk-parallel-item:only-child::after {width: 0;}#sk-container-id-1 div.sk-dashed-wrapped {border: 1px dashed gray;margin: 0 0.4em 0.5em 0.4em;box-sizing: border-box;padding-bottom: 0.4em;background-color: white;}#sk-container-id-1 div.sk-label label {font-family: monospace;font-weight: bold;display: inline-block;line-height: 1.2em;}#sk-container-id-1 div.sk-label-container {text-align: center;}#sk-container-id-1 div.sk-container {/* jupyter's `normalize.less` sets `[hidden] { display: none; }` but bootstrap.min.css set `[hidden] { display: none !important; }` so we also need the `!important` here to be able to override the default hidden behavior on the sphinx rendered scikit-learn.org. See: https://github.com/scikit-learn/scikit-learn/issues/21755 */display: inline-block !important;position: relative;}#sk-container-id-1 div.sk-text-repr-fallback {display: none;}</style><div id=\"sk-container-id-1\" class=\"sk-top-container\"><div class=\"sk-text-repr-fallback\"><pre>LogisticRegression()</pre><b>In a Jupyter environment, please rerun this cell to show the HTML representation or trust the notebook. <br />On GitHub, the HTML representation is unable to render, please try loading this page with nbviewer.org.</b></div><div class=\"sk-container\" hidden><div class=\"sk-item\"><div class=\"sk-estimator sk-toggleable\"><input class=\"sk-toggleable__control sk-hidden--visually\" id=\"sk-estimator-id-1\" type=\"checkbox\" checked><label for=\"sk-estimator-id-1\" class=\"sk-toggleable__label sk-toggleable__label-arrow\">LogisticRegression</label><div class=\"sk-toggleable__content\"><pre>LogisticRegression()</pre></div></div></div></div></div>"
      ],
      "text/plain": [
       "LogisticRegression()"
      ]
     },
     "execution_count": 10,
     "metadata": {},
     "output_type": "execute_result"
    }
   ],
   "source": [
    "# Criar e treinar o modelo de regressão logística\n",
    "modelo = LogisticRegression()\n",
    "modelo.fit(df_regressao[['CP']], df_regressao['target'])"
   ]
  },
  {
   "cell_type": "code",
   "execution_count": 11,
   "id": "1038e146",
   "metadata": {},
   "outputs": [
    {
     "name": "stderr",
     "output_type": "stream",
     "text": [
      "C:\\Users\\bruno\\anaconda3\\lib\\site-packages\\sklearn\\base.py:464: UserWarning: X does not have valid feature names, but LogisticRegression was fitted with feature names\n",
      "  warnings.warn(\n",
      "C:\\Users\\bruno\\anaconda3\\lib\\site-packages\\sklearn\\base.py:464: UserWarning: X does not have valid feature names, but LogisticRegression was fitted with feature names\n",
      "  warnings.warn(\n"
     ]
    },
    {
     "data": {
      "image/png": "[encoded data removed]",
      "text/plain": [
       "<Figure size 640x480 with 1 Axes>"
      ]
     },
     "metadata": {},
     "output_type": "display_data"
    }
   ],
   "source": [
    "# Criar um intervalo de valores para a variável independente\n",
    "X_observado=df_regressao['CP'].values.reshape(-1, 1)\n",
    "X_range = np.linspace(df_regressao['CP'].min()-20, df_regressao['CP'].max()+20, 400)\n",
    "X_range = pd.DataFrame(X_range, columns=['Componente principal 1'])\n",
    "# Obter as probabilidades previstas para o intervalo de valores\n",
    "y_proba = modelo.predict_proba(X_range.values.reshape(-1, 1))[:, 1]\n",
    "_\n",
    "# Plotar o gráfico\n",
    "plt.scatter(X_observado, modelo.predict(X_observado), color='red', label='Pontos do dataset')\n",
    "plt.plot(X_range, y_proba, color='blue', label='Linha fitada')\n",
    "plt.xlabel('Variável Independente')\n",
    "plt.ylabel('Probabilidade Prevista')\n",
    "plt.legend()\n",
    "plt.grid(True)\n",
    "plt.show()\n"
   ]
  },
  {
   "cell_type": "code",
   "execution_count": 12,
   "id": "fe94e64d",
   "metadata": {},
   "outputs": [
    {
     "data": {
      "text/plain": [
       "array([0.20158047])"
      ]
     },
     "execution_count": 12,
     "metadata": {},
     "output_type": "execute_result"
    }
   ],
   "source": [
    "modelo.coef_[0] "
   ]
  },
  {
   "cell_type": "code",
   "execution_count": null,
   "id": "22277c43",
   "metadata": {},
   "outputs": [],
   "source": [
    "\n"
   ]
  },
  {
   "cell_type": "code",
   "execution_count": 13,
   "id": "4c25196d",
   "metadata": {},
   "outputs": [],
   "source": [
    "# "
   ]
  },
  {
   "cell_type": "code",
   "execution_count": null,
   "id": "b17ee4f9",
   "metadata": {},
   "outputs": [],
   "source": [
    "\n"
   ]
  },
  {
   "cell_type": "code",
   "execution_count": null,
   "id": "e469475b",
   "metadata": {},
   "outputs": [],
   "source": []
  },
  {
   "cell_type": "code",
   "execution_count": null,
   "id": "78bd9852",
   "metadata": {},
   "outputs": [],
   "source": []
  },
  {
   "cell_type": "code",
   "execution_count": null,
   "id": "af404f80",
   "metadata": {},
   "outputs": [],
   "source": []
  },
  {
   "cell_type": "code",
   "execution_count": null,
   "id": "bfa53c56",
   "metadata": {},
   "outputs": [],
   "source": []
  },
  {
   "cell_type": "code",
   "execution_count": null,
   "id": "a261973e",
   "metadata": {},
   "outputs": [],
   "source": []
  }
 ],
 "metadata": {
  "kernelspec": {
   "display_name": "Python 3 (ipykernel)",
   "language": "python",
   "name": "python3"
  },
  "language_info": {
   "codemirror_mode": {
    "name": "ipython",
    "version": 3
   },
   "file_extension": ".py",
   "mimetype": "text/x-python",
   "name": "python",
   "nbconvert_exporter": "python",
   "pygments_lexer": "ipython3",
   "version": "3.10.12"
  }
 },
 "nbformat": 4,
 "nbformat_minor": 5
}
