{
 "cells": [
  {
   "cell_type": "code",
   "execution_count": 1,
   "id": "d9dcc12e",
   "metadata": {},
   "outputs": [],
   "source": [
    "import time\n",
    "import numpy as np"
   ]
  },
  {
   "cell_type": "code",
   "execution_count": 2,
   "id": "c9fffbf9",
   "metadata": {},
   "outputs": [],
   "source": [
    "a= np.random.randint(0,10,size=(3**8,3**8))\n",
    "b=np.random.randint(0,10,size=(3**8,3**8))"
   ]
  },
  {
   "cell_type": "code",
   "execution_count": 3,
   "id": "95acccf0",
   "metadata": {},
   "outputs": [
    {
     "data": {
      "text/plain": [
       "6561"
      ]
     },
     "execution_count": 3,
     "metadata": {},
     "output_type": "execute_result"
    }
   ],
   "source": [
    "\n"
   ]
  },
  {
   "cell_type": "code",
   "execution_count": 4,
   "id": "f05f2b3a",
   "metadata": {},
   "outputs": [],
   "source": [
    "def sum_matrix(matrix1,matrix2):\n",
    "    tempo_inicial= time.time()\n",
    "    L= matrix1.shape[0]\n",
    "    if matrix1.shape == matrix2.shape:\n",
    "        matrix_sqr= np.zeros((matrix1.shape[0],matrix2.shape[1]))\n",
    "        for i in range(L):\n",
    "            for j in range(L):\n",
    "                matrix_sqr[i,j]= matrix1[i,j]+matrix2[i,j]\n",
    "    else:\n",
    "        raise ValueError('As matrizes não podem ser somadas pois possuem dimenções diferentes')\n",
    "    tempo_final= time.time()\n",
    "    print(tempo_final-tempo_inicial)\n",
    "            "
   ]
  },
  {
   "cell_type": "code",
   "execution_count": 5,
   "id": "3a82d4c9",
   "metadata": {},
   "outputs": [
    {
     "name": "stdout",
     "output_type": "stream",
     "text": [
      "37.440547943115234\n"
     ]
    }
   ],
   "source": [
    "sum_matrix(a,b)"
   ]
  },
  {
   "cell_type": "code",
   "execution_count": 6,
   "id": "4e94f3a8",
   "metadata": {},
   "outputs": [],
   "source": [
    "# z= a.shape[0]\n",
    "# x= a.shape[1]\n",
    "\n",
    "# c=np.zeros((3,3))\n",
    "# c"
   ]
  },
  {
   "cell_type": "code",
   "execution_count": null,
   "id": "c71d3b05",
   "metadata": {},
   "outputs": [],
   "source": []
  }
 ],
 "metadata": {
  "kernelspec": {
   "display_name": "Python 3 (ipykernel)",
   "language": "python",
   "name": "python3"
  },
  "language_info": {
   "codemirror_mode": {
    "name": "ipython",
    "version": 3
   },
   "file_extension": ".py",
   "mimetype": "text/x-python",
   "name": "python",
   "nbconvert_exporter": "python",
   "pygments_lexer": "ipython3",
   "version": "3.10.12"
  }
 },
 "nbformat": 4,
 "nbformat_minor": 5
}
