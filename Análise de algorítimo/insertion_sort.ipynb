{
 "cells": [
  {
   "cell_type": "code",
   "execution_count": 1,
   "id": "7d6b1750",
   "metadata": {},
   "outputs": [],
   "source": [
    "import time\n",
    "import random\n",
    "import matplotlib.pyplot as plt\n",
    "\n",
    "def insertion_sort(lista):\n",
    "    n=len(lista)\n",
    "    tempo_inicial= time.time()\n",
    "    for i in range(1, n):\n",
    "        temporario= lista[i]\n",
    "        j= i-1\n",
    "        while j >=0 and  lista[j] > temporario:\n",
    "            lista[j+1]= lista[j]\n",
    "            j-=1\n",
    "        lista[j+1]=temporario\n",
    "    tempo_final= time.time()\n",
    "    tempo_total= tempo_final - tempo_inicial\n",
    "    return n, tempo_total\n",
    "    #return lista"
   ]
  },
  {
   "cell_type": "code",
   "execution_count": null,
   "id": "2c6a4b3b",
   "metadata": {},
   "outputs": [],
   "source": [
    "tempo_de_execução= {'Tamanho_da_lista':[],\n",
    "                    'lista_ invertida':[],\n",
    "                    'lista_ ordenada':[],\n",
    "                    'lista_ aleatória':[]\n",
    "                    }\n",
    "\n",
    "for i in range(5):\n",
    "    n=10**i\n",
    "    list_invertida= [x for x in range(n, -1,-1)]\n",
    "    list_ordenada = [x for x in range(n)]\n",
    "    list_aleatória= [random.randint(1, 100) for _ in range(n)]\n",
    "    temp_list_invertida= round(insertion_sort(list_invertida)[1],15)\n",
    "    temp_list_ordenada = round(insertion_sort(list_ordenada)[1],15)\n",
    "    temp_list_aleatória= round(insertion_sort(list_aleatória)[1],15)\n",
    "    tempo_de_execução['Tamanho_da_lista'].append(n)\n",
    "    tempo_de_execução['lista_ invertida'].append(temp_list_invertida)\n",
    "    tempo_de_execução['lista_ ordenada'].append(temp_list_ordenada)\n",
    "    tempo_de_execução['lista_ aleatória'].append(temp_list_aleatória)"
   ]
  },
  {
   "cell_type": "code",
   "execution_count": null,
   "id": "94550232",
   "metadata": {},
   "outputs": [],
   "source": [
    "# Criando o gráfico\n",
    "plt.figure(figsize=(10, 6))\n",
    "\n",
    "plt.plot(tempo_de_execução['Tamanho_da_lista'], tempo_de_execução['lista_ invertida'], label=\"Invertida\", marker='o', color='b')\n",
    "plt.plot(tempo_de_execução['Tamanho_da_lista'], tempo_de_execução['lista_ ordenada'], label=\"Ordenada\", marker='s', color='g')\n",
    "plt.plot(tempo_de_execução['Tamanho_da_lista'], tempo_de_execução['lista_ aleatória'], label=\"Aleatória\", marker='^', color='r')\n",
    "\n",
    "plt.xlabel(\"Tamanho da lista\")\n",
    "plt.ylabel(\"Tempo de execução (segundos)\")\n",
    "plt.title(\"Tempo de execução em diferentes tipos de listas\")\n",
    "\n",
    "plt.legend()\n",
    "plt.grid(False)\n",
    "\n",
    "plt.show()"
   ]
  },
  {
   "cell_type": "code",
   "execution_count": null,
   "id": "3f811ee1",
   "metadata": {},
   "outputs": [],
   "source": []
  },
  {
   "cell_type": "code",
   "execution_count": null,
   "id": "34e2eac4",
   "metadata": {},
   "outputs": [],
   "source": [
    "# list_ordenada"
   ]
  }
 ],
 "metadata": {
  "kernelspec": {
   "display_name": "Python 3 (ipykernel)",
   "language": "python",
   "name": "python3"
  },
  "language_info": {
   "codemirror_mode": {
    "name": "ipython",
    "version": 3
   },
   "file_extension": ".py",
   "mimetype": "text/x-python",
   "name": "python",
   "nbconvert_exporter": "python",
   "pygments_lexer": "ipython3",
   "version": "3.10.12"
  }
 },
 "nbformat": 4,
 "nbformat_minor": 5
}
